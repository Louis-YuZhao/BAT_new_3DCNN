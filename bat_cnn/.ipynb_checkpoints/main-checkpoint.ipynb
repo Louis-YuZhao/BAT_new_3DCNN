{
 "cells": [
  {
   "cell_type": "code",
   "execution_count": 5,
   "metadata": {},
   "outputs": [
    {
     "ename": "FileNotFoundError",
     "evalue": "[Errno 2] No such file or directory: '/home/louis/project/BAT_UNET_ThreeTwoD/resultData/BAT_data.h5'",
     "output_type": "error",
     "traceback": [
      "\u001b[0;31m---------------------------------------------------------------------------\u001b[0m",
      "\u001b[0;31mValueError\u001b[0m                                Traceback (most recent call last)",
      "\u001b[0;32m~/project/BAT_UNET_ThreeTwoD/models/data.py\u001b[0m in \u001b[0;36mwrite_data_to_file\u001b[0;34m(list_of_data_files, output_file, image_shape, truth_dtype)\u001b[0m\n\u001b[1;32m     30\u001b[0m                                                                                   \u001b[0mn_channels\u001b[0m\u001b[0;34m=\u001b[0m\u001b[0mn_channels\u001b[0m\u001b[0;34m,\u001b[0m\u001b[0;34m\u001b[0m\u001b[0m\n\u001b[0;32m---> 31\u001b[0;31m                                                                                   image_shape=image_shape)\n\u001b[0m\u001b[1;32m     32\u001b[0m     \u001b[0;32mexcept\u001b[0m \u001b[0mException\u001b[0m \u001b[0;32mas\u001b[0m \u001b[0me\u001b[0m\u001b[0;34m:\u001b[0m\u001b[0;34m\u001b[0m\u001b[0m\n",
      "\u001b[0;32m~/project/BAT_UNET_ThreeTwoD/models/data.py\u001b[0m in \u001b[0;36mcreate_data_file\u001b[0;34m(output_file, n_samples, n_channels, image_shape)\u001b[0m\n\u001b[1;32m     56\u001b[0m \u001b[0;34m\u001b[0m\u001b[0m\n\u001b[0;32m---> 57\u001b[0;31m     \u001b[0mhdf5_file\u001b[0m \u001b[0;34m=\u001b[0m \u001b[0mtables\u001b[0m\u001b[0;34m.\u001b[0m\u001b[0mopen_file\u001b[0m\u001b[0;34m(\u001b[0m\u001b[0moutput_file\u001b[0m\u001b[0;34m,\u001b[0m \u001b[0mmode\u001b[0m\u001b[0;34m=\u001b[0m\u001b[0;34m'w'\u001b[0m\u001b[0;34m)\u001b[0m\u001b[0;34m\u001b[0m\u001b[0m\n\u001b[0m\u001b[1;32m     58\u001b[0m     \u001b[0;31m# complevel: compression lever (0-9), complib: compression library\u001b[0m\u001b[0;34m\u001b[0m\u001b[0;34m\u001b[0m\u001b[0m\n",
      "\u001b[0;32m~/miniconda3/lib/python3.6/site-packages/tables/file.py\u001b[0m in \u001b[0;36mopen_file\u001b[0;34m(filename, mode, title, root_uep, filters, **kwargs)\u001b[0m\n\u001b[1;32m    316\u001b[0m                     \u001b[0;34m\"The file '%s' is already opened.  Please \"\u001b[0m\u001b[0;34m\u001b[0m\u001b[0m\n\u001b[0;32m--> 317\u001b[0;31m                     \"close it before reopening in write mode.\" % filename)\n\u001b[0m\u001b[1;32m    318\u001b[0m \u001b[0;34m\u001b[0m\u001b[0m\n",
      "\u001b[0;31mValueError\u001b[0m: The file '/home/louis/project/BAT_UNET_ThreeTwoD/resultData/BAT_data.h5' is already opened.  Please close it before reopening in write mode.",
      "\nDuring handling of the above exception, another exception occurred:\n",
      "\u001b[0;31mFileNotFoundError\u001b[0m                         Traceback (most recent call last)",
      "\u001b[0;32m~/project/BAT_UNET_ThreeTwoD/bat_cnn/train_bat.py\u001b[0m in \u001b[0;36m<module>\u001b[0;34m\u001b[0m\n\u001b[1;32m    183\u001b[0m     \u001b[0;32mif\u001b[0m \u001b[0;32mnot\u001b[0m \u001b[0mos\u001b[0m\u001b[0;34m.\u001b[0m\u001b[0mpath\u001b[0m\u001b[0;34m.\u001b[0m\u001b[0mexists\u001b[0m\u001b[0;34m(\u001b[0m\u001b[0mos\u001b[0m\u001b[0;34m.\u001b[0m\u001b[0mpath\u001b[0m\u001b[0;34m.\u001b[0m\u001b[0mabspath\u001b[0m\u001b[0;34m(\u001b[0m\u001b[0;34m\"../resultData\"\u001b[0m\u001b[0;34m)\u001b[0m\u001b[0;34m)\u001b[0m\u001b[0;34m:\u001b[0m\u001b[0;34m\u001b[0m\u001b[0m\n\u001b[1;32m    184\u001b[0m         \u001b[0mos\u001b[0m\u001b[0;34m.\u001b[0m\u001b[0mmkdir\u001b[0m\u001b[0;34m(\u001b[0m\u001b[0mos\u001b[0m\u001b[0;34m.\u001b[0m\u001b[0mpath\u001b[0m\u001b[0;34m.\u001b[0m\u001b[0mabspath\u001b[0m\u001b[0;34m(\u001b[0m\u001b[0;34m\"../resultData\"\u001b[0m\u001b[0;34m)\u001b[0m\u001b[0;34m)\u001b[0m\u001b[0;34m\u001b[0m\u001b[0m\n\u001b[0;32m--> 185\u001b[0;31m     \u001b[0mmain\u001b[0m\u001b[0;34m(\u001b[0m\u001b[0minput_data_root\u001b[0m\u001b[0;34m,\u001b[0m \u001b[0moverwrite\u001b[0m\u001b[0;34m=\u001b[0m\u001b[0mconfig\u001b[0m\u001b[0;34m[\u001b[0m\u001b[0;34m\"overwrite\"\u001b[0m\u001b[0;34m]\u001b[0m\u001b[0;34m)\u001b[0m\u001b[0;34m\u001b[0m\u001b[0m\n\u001b[0m",
      "\u001b[0;32m~/project/BAT_UNET_ThreeTwoD/bat_cnn/train_bat.py\u001b[0m in \u001b[0;36mmain\u001b[0;34m(input_data_root, overwrite)\u001b[0m\n\u001b[1;32m    103\u001b[0m \u001b[0;34m\u001b[0m\u001b[0m\n\u001b[1;32m    104\u001b[0m         \u001b[0mtraining_files\u001b[0m \u001b[0;34m=\u001b[0m \u001b[0mfetch_training_data_files\u001b[0m\u001b[0;34m(\u001b[0m\u001b[0mfolderName\u001b[0m\u001b[0;34m)\u001b[0m\u001b[0;34m\u001b[0m\u001b[0m\n\u001b[0;32m--> 105\u001b[0;31m         \u001b[0mwrite_data_to_file\u001b[0m\u001b[0;34m(\u001b[0m\u001b[0mtraining_files\u001b[0m\u001b[0;34m,\u001b[0m \u001b[0mconfig\u001b[0m\u001b[0;34m[\u001b[0m\u001b[0;34m\"data_file\"\u001b[0m\u001b[0;34m]\u001b[0m\u001b[0;34m,\u001b[0m \u001b[0mimage_shape\u001b[0m\u001b[0;34m=\u001b[0m\u001b[0mconfig\u001b[0m\u001b[0;34m[\u001b[0m\u001b[0;34m\"image_shape\"\u001b[0m\u001b[0;34m]\u001b[0m\u001b[0;34m)\u001b[0m\u001b[0;34m\u001b[0m\u001b[0m\n\u001b[0m\u001b[1;32m    106\u001b[0m         \u001b[0mdata_file_opened\u001b[0m \u001b[0;34m=\u001b[0m \u001b[0mopen_data_file\u001b[0m\u001b[0;34m(\u001b[0m\u001b[0mconfig\u001b[0m\u001b[0;34m[\u001b[0m\u001b[0;34m\"data_file\"\u001b[0m\u001b[0;34m]\u001b[0m\u001b[0;34m)\u001b[0m\u001b[0;34m\u001b[0m\u001b[0m\n\u001b[1;32m    107\u001b[0m         \u001b[0;31m#-------------------------------------------------------#\u001b[0m\u001b[0;34m\u001b[0m\u001b[0;34m\u001b[0m\u001b[0m\n",
      "\u001b[0;32m~/project/BAT_UNET_ThreeTwoD/models/data.py\u001b[0m in \u001b[0;36mwrite_data_to_file\u001b[0;34m(list_of_data_files, output_file, image_shape, truth_dtype)\u001b[0m\n\u001b[1;32m     32\u001b[0m     \u001b[0;32mexcept\u001b[0m \u001b[0mException\u001b[0m \u001b[0;32mas\u001b[0m \u001b[0me\u001b[0m\u001b[0;34m:\u001b[0m\u001b[0;34m\u001b[0m\u001b[0m\n\u001b[1;32m     33\u001b[0m         \u001b[0;31m# If something goes wrong, delete the incomplete data file\u001b[0m\u001b[0;34m\u001b[0m\u001b[0;34m\u001b[0m\u001b[0m\n\u001b[0;32m---> 34\u001b[0;31m         \u001b[0mos\u001b[0m\u001b[0;34m.\u001b[0m\u001b[0mremove\u001b[0m\u001b[0;34m(\u001b[0m\u001b[0moutput_file\u001b[0m\u001b[0;34m)\u001b[0m\u001b[0;34m\u001b[0m\u001b[0m\n\u001b[0m\u001b[1;32m     35\u001b[0m         \u001b[0;32mraise\u001b[0m \u001b[0me\u001b[0m\u001b[0;34m\u001b[0m\u001b[0m\n\u001b[1;32m     36\u001b[0m \u001b[0;34m\u001b[0m\u001b[0m\n",
      "\u001b[0;31mFileNotFoundError\u001b[0m: [Errno 2] No such file or directory: '/home/louis/project/BAT_UNET_ThreeTwoD/resultData/BAT_data.h5'"
     ]
    }
   ],
   "source": [
    "%run train_bat.py"
   ]
  },
  {
   "cell_type": "code",
   "execution_count": 1,
   "metadata": {},
   "outputs": [],
   "source": [
    "import SimpleITK as sitk\n",
    "\n",
    "reader = sitk.ImageFileReader()\n",
    "reader.SetImageIO(\"NrrdImageIO\")\n",
    "reader.SetFileName('../data/F/BAT_003_F.nrrd')\n",
    "image = reader.Execute();\n",
    "\n",
    "writer = sitk.ImageFileWriter()\n",
    "writer.SetFileName('../data/F/BAT_003_F.nii.gz')\n",
    "writer.Execute(image)"
   ]
  },
  {
   "cell_type": "code",
   "execution_count": 1,
   "metadata": {},
   "outputs": [],
   "source": [
    "import os\n",
    "import SimpleITK as sitk"
   ]
  },
  {
   "cell_type": "code",
   "execution_count": 4,
   "metadata": {},
   "outputs": [],
   "source": [
    "input_data_root = '../'\n",
    "train_path = {}\n",
    "train_path['FF'] = os.path.join(input_data_root, 'TrainingData/FF.txt')\n",
    "train_path['T2S'] = os.path.join(input_data_root, 'TrainingData/T2S.txt')\n",
    "train_path['F'] = os.path.join(input_data_root, 'TrainingData/F.txt')\n",
    "train_path['W'] = os.path.join(input_data_root, 'TrainingData/W.txt')\n",
    "train_path['pred_z'] = os.path.join(input_data_root, 'TrainingData/pred_z.txt')\n",
    "train_path['pred_x'] = os.path.join(input_data_root, 'TrainingData/pred_x.txt')\n",
    "train_path['pred_y'] = os.path.join(input_data_root, 'TrainingData/pred_y.txt')\n",
    "train_path['Label'] = os.path.join(input_data_root, 'TrainingData/Label.txt')"
   ]
  },
  {
   "cell_type": "code",
   "execution_count": 9,
   "metadata": {},
   "outputs": [],
   "source": [
    "keys = train_path.keys()"
   ]
  },
  {
   "cell_type": "code",
   "execution_count": 10,
   "metadata": {},
   "outputs": [
    {
     "name": "stdout",
     "output_type": "stream",
     "text": [
      "FF\n",
      "T2S\n",
      "F\n",
      "W\n",
      "pred_z\n",
      "pred_x\n",
      "pred_y\n",
      "Label\n"
     ]
    }
   ],
   "source": [
    "for key in keys:\n",
    "    print(key)"
   ]
  },
  {
   "cell_type": "code",
   "execution_count": 15,
   "metadata": {},
   "outputs": [],
   "source": [
    "key = 'FF'\n",
    "outputdir = os.path.join('/home/louis/project/BAT_new_3DCNN/', 'TrainingData')\n",
    "if not os.path.exists(outputdir):\n",
    "            os.mkdir(outputdir) "
   ]
  },
  {
   "cell_type": "code",
   "execution_count": 4,
   "metadata": {},
   "outputs": [],
   "source": [
    "basename = os.path.basename('../y_train/Pred3DMod_FFilter/thresholdMod_thresholdMod_BAT_012_Lab_Lab_RBandA.nrrd')"
   ]
  },
  {
   "cell_type": "code",
   "execution_count": 6,
   "metadata": {},
   "outputs": [
    {
     "data": {
      "text/plain": [
       "'thresholdMod_thresholdMod_BAT_012_Lab_Lab_RBandA'"
      ]
     },
     "execution_count": 6,
     "metadata": {},
     "output_type": "execute_result"
    }
   ],
   "source": [
    "os.path.splitext(basename)[0]"
   ]
  },
  {
   "cell_type": "code",
   "execution_count": 9,
   "metadata": {},
   "outputs": [],
   "source": [
    "inputfile ='../y_train/Pred3DMod_FFilter/thresholdMod_thresholdMod_BAT_012_Lab_Lab_RBandA.nrrd'\n",
    "outputdir = '/home/louis/project/BAT_new_3DCNN/pred_y/'\n",
    "reader = sitk.ImageFileReader()\n",
    "reader.SetImageIO(\"NrrdImageIO\")\n",
    "reader.SetFileName(inputfile)\n",
    "image = reader.Execute();\n",
    "\n",
    "writer = sitk.ImageFileWriter()\n",
    "basename = os.path.basename(inputfile)\n",
    "name = os.path.splitext(basename)[0]\n",
    "outputfile = os.path.join(outputdir, name, '.nii.gz')\n",
    "writer.SetFileName(outputfile)\n",
    "writer.Execute(image)"
   ]
  },
  {
   "cell_type": "code",
   "execution_count": null,
   "metadata": {},
   "outputs": [],
   "source": []
  }
 ],
 "metadata": {
  "kernelspec": {
   "display_name": "Python 3",
   "language": "python",
   "name": "python3"
  },
  "language_info": {
   "codemirror_mode": {
    "name": "ipython",
    "version": 3
   },
   "file_extension": ".py",
   "mimetype": "text/x-python",
   "name": "python",
   "nbconvert_exporter": "python",
   "pygments_lexer": "ipython3",
   "version": "3.6.5"
  }
 },
 "nbformat": 4,
 "nbformat_minor": 2
}
